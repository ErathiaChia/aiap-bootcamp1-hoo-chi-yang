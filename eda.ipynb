{
 "cells": [
  {
   "cell_type": "markdown",
   "metadata": {},
   "source": [
    "# 1. Import Library & Load Data"
   ]
  },
  {
   "cell_type": "code",
   "execution_count": 60,
   "metadata": {},
   "outputs": [],
   "source": [
    "import sys\n",
    "import os\n",
    "import pandas as pd\n",
    "import numpy as np\n",
    "import sqlite3 as db\n",
    "import matplotlib.pyplot as plt\n",
    "import seaborn as sns\n",
    "from scipy.stats import chi2_contingency"
   ]
  },
  {
   "cell_type": "code",
   "execution_count": 61,
   "metadata": {},
   "outputs": [
    {
     "name": "stdout",
     "output_type": "stream",
     "text": [
      "File exists\n"
     ]
    },
    {
     "data": {
      "text/html": [
       "<div>\n",
       "<style scoped>\n",
       "    .dataframe tbody tr th:only-of-type {\n",
       "        vertical-align: middle;\n",
       "    }\n",
       "\n",
       "    .dataframe tbody tr th {\n",
       "        vertical-align: top;\n",
       "    }\n",
       "\n",
       "    .dataframe thead th {\n",
       "        text-align: right;\n",
       "    }\n",
       "</style>\n",
       "<table border=\"1\" class=\"dataframe\">\n",
       "  <thead>\n",
       "    <tr style=\"text-align: right;\">\n",
       "      <th></th>\n",
       "      <th>index</th>\n",
       "      <th>number_of_siblings</th>\n",
       "      <th>direct_admission</th>\n",
       "      <th>CCA</th>\n",
       "      <th>learning_style</th>\n",
       "      <th>student_id</th>\n",
       "      <th>gender</th>\n",
       "      <th>tuition</th>\n",
       "      <th>final_test</th>\n",
       "      <th>n_male</th>\n",
       "      <th>n_female</th>\n",
       "      <th>age</th>\n",
       "      <th>hours_per_week</th>\n",
       "      <th>attendance_rate</th>\n",
       "      <th>sleep_time</th>\n",
       "      <th>wake_time</th>\n",
       "      <th>mode_of_transport</th>\n",
       "      <th>bag_color</th>\n",
       "    </tr>\n",
       "  </thead>\n",
       "  <tbody>\n",
       "    <tr>\n",
       "      <th>0</th>\n",
       "      <td>0</td>\n",
       "      <td>0</td>\n",
       "      <td>Yes</td>\n",
       "      <td>Sports</td>\n",
       "      <td>Visual</td>\n",
       "      <td>ACN2BE</td>\n",
       "      <td>Female</td>\n",
       "      <td>No</td>\n",
       "      <td>69.0</td>\n",
       "      <td>14.0</td>\n",
       "      <td>2.0</td>\n",
       "      <td>16.0</td>\n",
       "      <td>10.0</td>\n",
       "      <td>91.0</td>\n",
       "      <td>22:00</td>\n",
       "      <td>6:00</td>\n",
       "      <td>private transport</td>\n",
       "      <td>yellow</td>\n",
       "    </tr>\n",
       "    <tr>\n",
       "      <th>1</th>\n",
       "      <td>1</td>\n",
       "      <td>2</td>\n",
       "      <td>No</td>\n",
       "      <td>Sports</td>\n",
       "      <td>Auditory</td>\n",
       "      <td>FGXIIZ</td>\n",
       "      <td>Female</td>\n",
       "      <td>No</td>\n",
       "      <td>47.0</td>\n",
       "      <td>4.0</td>\n",
       "      <td>19.0</td>\n",
       "      <td>16.0</td>\n",
       "      <td>7.0</td>\n",
       "      <td>94.0</td>\n",
       "      <td>22:30</td>\n",
       "      <td>6:30</td>\n",
       "      <td>private transport</td>\n",
       "      <td>green</td>\n",
       "    </tr>\n",
       "    <tr>\n",
       "      <th>2</th>\n",
       "      <td>2</td>\n",
       "      <td>0</td>\n",
       "      <td>Yes</td>\n",
       "      <td>None</td>\n",
       "      <td>Visual</td>\n",
       "      <td>B9AI9F</td>\n",
       "      <td>Male</td>\n",
       "      <td>No</td>\n",
       "      <td>85.0</td>\n",
       "      <td>14.0</td>\n",
       "      <td>2.0</td>\n",
       "      <td>15.0</td>\n",
       "      <td>8.0</td>\n",
       "      <td>92.0</td>\n",
       "      <td>22:30</td>\n",
       "      <td>6:30</td>\n",
       "      <td>private transport</td>\n",
       "      <td>white</td>\n",
       "    </tr>\n",
       "    <tr>\n",
       "      <th>3</th>\n",
       "      <td>3</td>\n",
       "      <td>1</td>\n",
       "      <td>No</td>\n",
       "      <td>Clubs</td>\n",
       "      <td>Auditory</td>\n",
       "      <td>FEVM1T</td>\n",
       "      <td>Female</td>\n",
       "      <td>Yes</td>\n",
       "      <td>64.0</td>\n",
       "      <td>2.0</td>\n",
       "      <td>20.0</td>\n",
       "      <td>15.0</td>\n",
       "      <td>18.0</td>\n",
       "      <td>NaN</td>\n",
       "      <td>21:00</td>\n",
       "      <td>5:00</td>\n",
       "      <td>public transport</td>\n",
       "      <td>yellow</td>\n",
       "    </tr>\n",
       "    <tr>\n",
       "      <th>4</th>\n",
       "      <td>4</td>\n",
       "      <td>0</td>\n",
       "      <td>No</td>\n",
       "      <td>Sports</td>\n",
       "      <td>Auditory</td>\n",
       "      <td>AXZN2E</td>\n",
       "      <td>Male</td>\n",
       "      <td>No</td>\n",
       "      <td>66.0</td>\n",
       "      <td>24.0</td>\n",
       "      <td>3.0</td>\n",
       "      <td>16.0</td>\n",
       "      <td>7.0</td>\n",
       "      <td>95.0</td>\n",
       "      <td>21:30</td>\n",
       "      <td>5:30</td>\n",
       "      <td>public transport</td>\n",
       "      <td>yellow</td>\n",
       "    </tr>\n",
       "  </tbody>\n",
       "</table>\n",
       "</div>"
      ],
      "text/plain": [
       "   index  number_of_siblings direct_admission     CCA learning_style  \\\n",
       "0      0                   0              Yes  Sports         Visual   \n",
       "1      1                   2               No  Sports       Auditory   \n",
       "2      2                   0              Yes    None         Visual   \n",
       "3      3                   1               No   Clubs       Auditory   \n",
       "4      4                   0               No  Sports       Auditory   \n",
       "\n",
       "  student_id  gender tuition  final_test  n_male  n_female   age  \\\n",
       "0     ACN2BE  Female      No        69.0    14.0       2.0  16.0   \n",
       "1     FGXIIZ  Female      No        47.0     4.0      19.0  16.0   \n",
       "2     B9AI9F    Male      No        85.0    14.0       2.0  15.0   \n",
       "3     FEVM1T  Female     Yes        64.0     2.0      20.0  15.0   \n",
       "4     AXZN2E    Male      No        66.0    24.0       3.0  16.0   \n",
       "\n",
       "   hours_per_week  attendance_rate sleep_time wake_time  mode_of_transport  \\\n",
       "0            10.0             91.0      22:00      6:00  private transport   \n",
       "1             7.0             94.0      22:30      6:30  private transport   \n",
       "2             8.0             92.0      22:30      6:30  private transport   \n",
       "3            18.0              NaN      21:00      5:00   public transport   \n",
       "4             7.0             95.0      21:30      5:30   public transport   \n",
       "\n",
       "  bag_color  \n",
       "0    yellow  \n",
       "1     green  \n",
       "2     white  \n",
       "3    yellow  \n",
       "4    yellow  "
      ]
     },
     "execution_count": 61,
     "metadata": {},
     "output_type": "execute_result"
    }
   ],
   "source": [
    "# Connect to a dfbase\n",
    "#data cleaning\n",
    "file_path = 'data\\score.db'\n",
    "\n",
    "if os.path.isfile(file_path):\n",
    "    print('File exists')\n",
    "else:\n",
    "    print('File does not exist')\n",
    "\n",
    "conn = db.connect(file_path)\n",
    "\n",
    "df = pd.read_sql_query(\"SELECT * from score\", conn)\n",
    "conn.close()\n",
    "df.head()\n"
   ]
  },
  {
   "cell_type": "markdown",
   "metadata": {},
   "source": [
    "# 2. Preprocessing & EDA"
   ]
  },
  {
   "cell_type": "markdown",
   "metadata": {},
   "source": [
    "## Filtering to Secondary School age only\n",
    "\n",
    "The data also includes students that are not of O-level age. \\\n",
    "We shall filter the data to include only students of age 15 and 16. "
   ]
  },
  {
   "cell_type": "code",
   "execution_count": 62,
   "metadata": {},
   "outputs": [
    {
     "name": "stdout",
     "output_type": "stream",
     "text": [
      "age\n",
      " 15.0    7726\n",
      " 16.0    7723\n",
      " 6.0      230\n",
      " 5.0      216\n",
      "-5.0        4\n",
      "-4.0        1\n",
      "Name: count, dtype: int64\n"
     ]
    },
    {
     "data": {
      "image/png": "[encoded data removed]",
      "text/plain": [
       "<Figure size 640x480 with 1 Axes>"
      ]
     },
     "metadata": {},
     "output_type": "display_data"
    }
   ],
   "source": [
    "# plot age histogram\n",
    "plt.hist(df['age'])\n",
    "plt.title('Age Histogram')\n",
    "print(df['age'].value_counts())\n",
    "\n",
    "df = df[df['age'] >= 15]"
   ]
  },
  {
   "cell_type": "markdown",
   "metadata": {},
   "source": [
    "## Data Summary and Missing values\n",
    "\n",
    "There are a total of 15,449 datapoints, with 15 variables.\n",
    "\n",
    "We see that there are null values in 'final_test' and 'attendance_rate' which we will address later."
   ]
  },
  {
   "cell_type": "code",
   "execution_count": 63,
   "metadata": {},
   "outputs": [
    {
     "name": "stdout",
     "output_type": "stream",
     "text": [
      "Data Types and Missing Values:\n",
      "\n",
      "<class 'pandas.core.frame.DataFrame'>\n",
      "Index: 15449 entries, 0 to 15899\n",
      "Data columns (total 16 columns):\n",
      " #   Column              Non-Null Count  Dtype  \n",
      "---  ------              --------------  -----  \n",
      " 0   number_of_siblings  15449 non-null  int64  \n",
      " 1   direct_admission    15449 non-null  object \n",
      " 2   CCA                 15449 non-null  object \n",
      " 3   learning_style      15449 non-null  object \n",
      " 4   gender              15449 non-null  object \n",
      " 5   tuition             15449 non-null  object \n",
      " 6   final_test          14969 non-null  float64\n",
      " 7   n_male              15449 non-null  float64\n",
      " 8   n_female            15449 non-null  float64\n",
      " 9   age                 15449 non-null  float64\n",
      " 10  hours_per_week      15449 non-null  float64\n",
      " 11  attendance_rate     14690 non-null  float64\n",
      " 12  sleep_time          15449 non-null  object \n",
      " 13  wake_time           15449 non-null  object \n",
      " 14  mode_of_transport   15449 non-null  object \n",
      " 15  bag_color           15449 non-null  object \n",
      "dtypes: float64(6), int64(1), object(9)\n",
      "memory usage: 2.0+ MB\n",
      "None\n"
     ]
    }
   ],
   "source": [
    "print(\"Data Types and Missing Values:\\n\")\n",
    "df.drop(['student_id','index'], axis=1, inplace=True)\n",
    "print(df.info())"
   ]
  },
  {
   "cell_type": "markdown",
   "metadata": {},
   "source": [
    "## CCA & Tuition Data Cleaning\n",
    "\n",
    "Below, we see the unique values of categorical variables in the dataset. \\\n",
    "Notice that some data cleaning is required for 'CCA' & 'tuition'. "
   ]
  },
  {
   "cell_type": "code",
   "execution_count": 64,
   "metadata": {},
   "outputs": [
    {
     "name": "stdout",
     "output_type": "stream",
     "text": [
      "Value Counts for Column: direct_admission\n",
      "direct_admission\n",
      "No     10873\n",
      "Yes     4576\n",
      "Name: count, dtype: int64\n",
      "\n",
      "\n",
      "Value Counts for Column: CCA\n",
      "CCA\n",
      "Clubs     3804\n",
      "Sports    3759\n",
      "None      3722\n",
      "Arts      3672\n",
      "CLUBS      141\n",
      "NONE       125\n",
      "ARTS       121\n",
      "SPORTS     105\n",
      "Name: count, dtype: int64\n",
      "\n",
      "\n",
      "Value Counts for Column: learning_style\n",
      "learning_style\n",
      "Auditory    8891\n",
      "Visual      6558\n",
      "Name: count, dtype: int64\n",
      "\n",
      "\n",
      "Value Counts for Column: gender\n",
      "gender\n",
      "Male      7761\n",
      "Female    7688\n",
      "Name: count, dtype: int64\n",
      "\n",
      "\n",
      "Value Counts for Column: mode_of_transport\n",
      "mode_of_transport\n",
      "public transport     6190\n",
      "private transport    6144\n",
      "walk                 3115\n",
      "Name: count, dtype: int64\n",
      "\n",
      "\n",
      "Value Counts for Column: bag_color\n",
      "bag_color\n",
      "yellow    2656\n",
      "black     2589\n",
      "green     2582\n",
      "blue      2548\n",
      "red       2538\n",
      "white     2536\n",
      "Name: count, dtype: int64\n",
      "\n",
      "\n",
      "Value Counts for Column: tuition\n",
      "tuition\n",
      "Yes    8440\n",
      "No     6447\n",
      "Y       315\n",
      "N       247\n",
      "Name: count, dtype: int64\n",
      "\n",
      "\n",
      "Value Counts for Column: age\n",
      "age\n",
      "15.0    7726\n",
      "16.0    7723\n",
      "Name: count, dtype: int64\n",
      "\n",
      "\n"
     ]
    }
   ],
   "source": [
    "categorical_columns = ['direct_admission', 'CCA', 'learning_style', 'gender', 'mode_of_transport', 'bag_color', 'tuition', 'age']\n",
    "\n",
    "for col in categorical_columns:\n",
    "    print('Value Counts for Column:', col)\n",
    "    print(df[col].value_counts())\n",
    "    print('\\n')"
   ]
  },
  {
   "cell_type": "code",
   "execution_count": 65,
   "metadata": {},
   "outputs": [
    {
     "data": {
      "text/plain": [
       "0        Sports\n",
       "1        Sports\n",
       "2          None\n",
       "3         Clubs\n",
       "4        Sports\n",
       "          ...  \n",
       "15895     Clubs\n",
       "15896      None\n",
       "15897    Sports\n",
       "15898     Clubs\n",
       "15899      None\n",
       "Name: CCA, Length: 15449, dtype: object"
      ]
     },
     "execution_count": 65,
     "metadata": {},
     "output_type": "execute_result"
    }
   ],
   "source": [
    "df['CCA'].str.lower().str.title() "
   ]
  },
  {
   "cell_type": "code",
   "execution_count": null,
   "metadata": {},
   "outputs": [],
   "source": [
    "df['CCA'] = df['CCA'].str.lower().str.title() \n",
    "df.loc[df['CCA'] == 'None', 'CCA'] = 'None'\n",
    "df.loc[df['CCA'] == 'N/A', 'CCA'] = 'None'\n",
    "df.loc[df['CCA'] == 'Arts', 'CCA'] = 'Arts'\n",
    "df.loc[df['CCA'] == 'Sports', 'CCA'] = 'Sports'\n",
    "df.loc[df['CCA'] == 'Clubs', 'CCA'] = 'Clubs'\n",
    "df['tuition'] = df['tuition'].replace({'Y': 'Yes', 'N': 'No'})\n",
    "\n",
    "for col in categorical_columns:\n",
    "    print('Value Counts for Column:', col)\n",
    "    print(df[col].value_counts())\n",
    "    print('\\n')"
   ]
  },
  {
   "cell_type": "markdown",
   "metadata": {},
   "source": [
    "## Feature Engineering (hours_of_sleep)\n",
    "\n",
    "Here we see there is 'sleep_time' and 'wake_time.'\\\n",
    "Let's change it to 'hours_of_sleep' and drop the above. \\\n",
    "We see that majority of students have 8 hours of sleep."
   ]
  },
  {
   "cell_type": "code",
   "execution_count": null,
   "metadata": {},
   "outputs": [],
   "source": [
    "df['hours_of_sleep'] = (pd.to_datetime(df['wake_time']) - pd.to_datetime(df['sleep_time'])).dt.seconds / 3600\n",
    "df.drop(['sleep_time', 'wake_time'], axis=1, inplace=True)\n"
   ]
  },
  {
   "cell_type": "code",
   "execution_count": null,
   "metadata": {},
   "outputs": [],
   "source": [
    "plt.hist(df['hours_of_sleep'], bins=10)\n",
    "plt.xlabel('hours_of_sleep')\n",
    "plt.ylabel('Count')\n",
    "plt.title('Histogram of hours_of_sleep')\n",
    "plt.show()"
   ]
  },
  {
   "cell_type": "markdown",
   "metadata": {},
   "source": [
    "## Pairplots\n",
    "\n",
    "Pairplot creation to check for patterns of initial data. \n"
   ]
  },
  {
   "cell_type": "code",
   "execution_count": null,
   "metadata": {},
   "outputs": [],
   "source": [
    "numerical_cols = ['final_test', 'n_male', 'n_female', 'hours_per_week', 'attendance_rate', 'hours_of_sleep', 'number_of_siblings']\n",
    "\n",
    "sns.pairplot(df[numerical_cols], kind='reg', plot_kws={'line_kws':{'color':'red'}})"
   ]
  },
  {
   "cell_type": "markdown",
   "metadata": {},
   "source": [
    "## attendance & final grade\n",
    "There seems to be a wierd pattern between attendance and final_test. \\\n",
    "It definitely looks like there is a cap to final_test given a certain range of attendance. \\\n",
    "We can make the following observations: \n",
    "- Between 40-50% attendance, final test scores seems to be capped at 45.\n",
    "- Between 50-90% attendance, final test scores seems to be capped at 50. \n",
    "- Between 90-10% attendance, full final test scores can be achieved. \n",
    "\n",
    "Students seems to be able to be grouped into 3 types in 'attendance_rate'.\n",
    "\n"
   ]
  },
  {
   "cell_type": "code",
   "execution_count": null,
   "metadata": {},
   "outputs": [],
   "source": [
    "plt.scatter(df['attendance_rate'], df['final_test'])\n",
    "plt.xlabel('Attendance Rate')\n",
    "plt.ylabel('Final Test Score')\n",
    "plt.title('Attendance Rate vs Final Test Score')\n",
    "plt.figure(figsize=(10,6))\n",
    "plt.show()"
   ]
  },
  {
   "cell_type": "markdown",
   "metadata": {},
   "source": [
    "## Feature Engineering (att_type)\n",
    "\n",
    "We create a new variable called att_type: \n",
    "- If attendance rate < 50, then attendance type is C\n",
    "- If attendance rate < 90 then attendance type is B\n",
    "- If attendance rate 90-100, then attendance type is A\n",
    "\n",
    "We include both as we see that attendance_rate sets distinct limits in terms of student final test scores. \n",
    "The categorical variable 'att_type' would capture broad attendance categories while 'attendance_rate' would provide finer information of the student's attendance rate. "
   ]
  },
  {
   "cell_type": "code",
   "execution_count": null,
   "metadata": {},
   "outputs": [],
   "source": [
    "def classify_attendance_type(att_rate):\n",
    "    if att_rate < 50:\n",
    "        return 'C'\n",
    "    elif att_rate < 90:\n",
    "        return 'B'\n",
    "    elif np.isnan(att_rate):\n",
    "        return np.nan\n",
    "    else:\n",
    "        return 'A'\n",
    "    \n",
    "df['att_type'] = df['attendance_rate'].apply(classify_attendance_type)\n",
    "\n",
    "categorical_columns.append('att_type')"
   ]
  },
  {
   "cell_type": "code",
   "execution_count": null,
   "metadata": {},
   "outputs": [],
   "source": [
    "\n",
    "colors = {'C': 'red', 'B': 'blue', 'A': 'green', np.nan: 'black'} \n",
    "plt.scatter(df['attendance_rate'], df['final_test'], c=df['att_type'].map(colors))\n",
    "plt.xlabel('Attendance Rate')\n",
    "plt.ylabel('Final Test Score')\n",
    "handles = [plt.Line2D([0], [0], marker='o', color='w', label=att_type, markersize=10, markerfacecolor=colors[att_type]) for att_type in colors]\n",
    "plt.legend(handles=handles, title=\"Attendance Type\")\n",
    "plt.title('Attendance Rate vs Final Test Score')\n",
    "plt.figure(figsize=(10,6))\n",
    "\n",
    "plt.show()"
   ]
  },
  {
   "cell_type": "markdown",
   "metadata": {},
   "source": [
    "## Handling Missing Values and Imputing Attendance_rate\n",
    "\n",
    "Previously, we have checked that 'final_test' and 'attendance_rate' contains missing values. \\\n",
    "Here we shall do data cleaning for these variables. \\\n",
    "We can assume the 'att_type' based on the student's final_test score, and then impute the 'attendance_rate' based on the mean value of students in the same 'att_type'. \\\n",
    "For students that are missing 'final_test' data, we shall drop them. \n",
    "\n",
    "This includes the following steps:\n",
    "1. Drop rows if final_test is Nan. \n",
    "2. Calculate the mean test score grouped by 'att_type.'\n",
    "3. Assign the 'att_type' based on 'final_test' and impute 'attendance_rate' :\n",
    "    - If final_test > 50, then att_type = A, attendance_rate mean of A\n",
    "    - If final_test > 45, then att_type = B, attendance_rate mean B\n",
    "    - else final_test < 45, then att_type = C, attendance_rate mean C"
   ]
  },
  {
   "cell_type": "code",
   "execution_count": null,
   "metadata": {},
   "outputs": [],
   "source": [
    "# 1. drop rows if final_score is NAN (since hard to impute)\n",
    "df = df.dropna(subset=['final_test'])\n",
    "#Get the mean of each att_type\n",
    "mean_attendance = df.groupby('att_type')['attendance_rate'].mean()\n",
    "list_att_mean = list(mean_attendance)\n",
    "# 2. If final_test > 50, then att_type = A, attendance_rate mean 1\n",
    "# 3. If final_test > 45, then att_type = B, attendance_rate mean 2\n",
    "# 4. else final_test < 45, then att_type = C, attendance_rate mean 3\n",
    "mask_A = (df['att_type'].isna()) & (df['final_test'] > 50)\n",
    "mask_B = (df['att_type'].isna()) & (df['final_test'] > 45) & (df['final_test'] <= 50)\n",
    "mask_C = (df['att_type'].isna()) & (df['final_test'] <= 45)\n",
    "\n",
    "df.loc[mask_A, 'att_type'] = 'A'\n",
    "df.loc[mask_A, 'attendance_rate'] = list_att_mean[0]\n",
    "\n",
    "df.loc[mask_B, 'att_type'] = 'B'\n",
    "df.loc[mask_B, 'attendance_rate'] = list_att_mean[1]\n",
    "\n",
    "df.loc[mask_C, 'att_type'] = 'C'\n",
    "df.loc[mask_C, 'attendance_rate'] = list_att_mean[2]\n",
    "# check nans\n",
    "print('Number of NaNs in the dataset: ', df.isnull().sum().sum())\n"
   ]
  },
  {
   "cell_type": "markdown",
   "metadata": {},
   "source": [
    "## hours per week & final grade (and attendance type)\n",
    "We also see an interesting pattern between hours per week, attendance type and final grade. \\\n",
    "We can make the following observation: \n",
    " - when hours_per_week is below 5, final test scores cannot be above 75 and there is a gap between 51 - 75. Only those with Attendance type A (>90) are able to score around 75.\n",
    " - when hours per week is 5 to 10, full final test scores can be achieved. \n",
    " - when hours per week is above 10 and below 15.0, final test scores are capped at 75.\n",
    " - when hours per week is above 15.0, final test scores are at least 50 but below 75. \n",
    "\n"
   ]
  },
  {
   "cell_type": "code",
   "execution_count": null,
   "metadata": {},
   "outputs": [],
   "source": [
    "plt.scatter(df['hours_per_week'], df['final_test'], c= df['att_type'].map(colors))\n",
    "plt.xlabel('hours_per_week')\n",
    "plt.ylabel('Final Test Score')\n",
    "plt.title('hours_per_week vs Final Test Score')\n",
    "handles = [plt.Line2D([0], [0], marker='o', color='w', label=att_type, markersize=10, markerfacecolor=colors[att_type]) for att_type in colors]\n",
    "plt.legend(handles=handles, title=\"Attendance Type\")\n",
    "plt.figure(figsize=(10,6))\n",
    "plt.show()"
   ]
  },
  {
   "cell_type": "markdown",
   "metadata": {},
   "source": [
    "## number_of_siblings\n",
    "\n",
    "The relationship between 'number_of_siblings' and 'final_test' do not appear linear:\n",
    "- Students with 0 siblings have the highest mean and median at approximately 76.\n",
    "- Students with 2 siblings have higher mean and median compared to students with 1 siblings.\n",
    "\n",
    "Therefore, number of siblings should be categorized as a categorical variable.\n"
   ]
  },
  {
   "cell_type": "code",
   "execution_count": null,
   "metadata": {},
   "outputs": [],
   "source": [
    "order = sorted(df['number_of_siblings'].unique())\n",
    "ax = sns.violinplot(x='number_of_siblings', y='final_test', data=df, order=order, inner=None, color='lightgray')\n",
    "\n",
    "for i, category in enumerate(order):\n",
    "    category_data = df[df['number_of_siblings'] == category]['final_test']\n",
    "    \n",
    "    # Median\n",
    "    median = category_data.median()\n",
    "    ax.plot([i-0.2, i+0.2], [median, median], color='red', lw=1, label='median' if i==0 else \"\")\n",
    "    ax.text(i, median, f'{median:.2f}', ha='right', va='bottom', color='red', fontsize=10)\n",
    "    \n",
    "    # Mean\n",
    "    mean = category_data.mean()\n",
    "    ax.plot([i-0.3, i+0.3], [mean, mean], color='blue', linestyle='--', lw=1, label='mean' if i==0 else \"\")\n",
    "    ax.text(i, mean, f'{mean:.2f}', ha='left', va='top', color='blue', fontsize=10)\n",
    "\n",
    "# Adding legend\n",
    "handles, labels = ax.get_legend_handles_labels()\n",
    "ax.legend(handles[:2], labels[:2], loc='upper right')  # show one legend entry for median and mean\n",
    "plt.show()\n"
   ]
  },
  {
   "cell_type": "code",
   "execution_count": null,
   "metadata": {},
   "outputs": [],
   "source": [
    "\n",
    "ax = sns.boxplot(x='number_of_siblings', y='final_test', data=df, order=order, showmeans=True, meanline=True,\n",
    "                 meanprops={\"marker\":\"o\",\n",
    "                            \"markerfacecolor\":\"blue\", \n",
    "                            \"markeredgecolor\":\"black\",\n",
    "                            \"markersize\":\"8\"})\n",
    "\n",
    "for i, category in enumerate(order):\n",
    "    category_data = df[df['number_of_siblings'] == category]['final_test']\n",
    "    \n",
    "    # Median\n",
    "    median = category_data.median()\n",
    "    ax.scatter(i, median, color='red', s=50, label='Median' if i==0 else \"\", zorder=10)\n",
    "    ax.text(i, median, f'{median:.2f}', ha='right', va='bottom', color='red', fontsize=10, zorder=10)\n",
    "    \n",
    "    # Mean\n",
    "    mean = category_data.mean()\n",
    "    ax.text(i, mean, f'{mean:.2f}', ha='left', va='top', color='blue', fontsize=10, zorder=10)\n",
    "\n",
    "# Adding legend\n",
    "red_patch = plt.Line2D([0], [0], marker='o', color='w', markerfacecolor='red', markersize=8, label='Median')\n",
    "blue_patch = plt.Line2D([0], [0], marker='o', color='w', markerfacecolor='blue', markersize=8, label='Mean')\n",
    "ax.legend(handles=[red_patch, blue_patch], loc='upper right')\n",
    "plt.show()\n"
   ]
  },
  {
   "cell_type": "code",
   "execution_count": null,
   "metadata": {},
   "outputs": [],
   "source": [
    "categorical_columns.append('number_of_siblings')\n",
    "numerical_cols.remove('number_of_siblings')"
   ]
  },
  {
   "cell_type": "markdown",
   "metadata": {},
   "source": [
    "##  Feature Engineering 'class_size', 'school_type'\n",
    "\n",
    "Empirically, 'class_size' is an important predictor for test scores. We can create it by summing 'n_male' and 'n_female'.\n",
    "\n",
    "We should also compare if gendered schools and mixed schools have a difference in test scores. We can engineer this from 'n_male' and 'n_female'."
   ]
  },
  {
   "cell_type": "code",
   "execution_count": null,
   "metadata": {},
   "outputs": [],
   "source": [
    "# 'class_size'\n",
    "df['class_size'] = df['n_male'] + df['n_female']\n",
    "\n",
    "# 'school_type'\n",
    "conditions = [\n",
    "    (df['n_male'] > 0) & (df['n_female'] == 0),\n",
    "    (df['n_female'] > 0) & (df['n_male'] == 0),\n",
    "    (df['n_male'] > 0) & (df['n_female'] > 0)\n",
    "]\n",
    "choices = ['boy_sch', 'girl_sch', 'mixed']\n",
    "df['school_type'] = np.select(conditions, choices, default='unknown')\n",
    "\n",
    "df.drop(['n_male','n_female'], axis=1, inplace=True)\n",
    "\n",
    "numerical_cols.append('class_size')\n",
    "numerical_cols.remove('n_male')\n",
    "numerical_cols.remove('n_female')\n",
    "\n",
    "categorical_columns.append('school_type')\n",
    "\n"
   ]
  },
  {
   "cell_type": "markdown",
   "metadata": {},
   "source": [
    "## KDE & Histogram plot for Numerical Columns\n",
    "\n",
    "We notice the following:\n",
    "- 'attendance_rate' and 'hours_of_sleep' shows negative skewness. Most students tend to have a attendance of between 90 - 100 and 8 hours of sleep.\n",
    "- 'final_test' distribution shows that a multimodal distribution. ('attendance_rate' mentioned previously sets a limit in grades.)\n",
    "- 'class_size' distribution and also 'hours_per_week' also shows a multimodal distribution. \n"
   ]
  },
  {
   "cell_type": "code",
   "execution_count": null,
   "metadata": {},
   "outputs": [],
   "source": [
    "from scipy.stats import gaussian_kde\n",
    "\n",
    "bins_m = int(np.sqrt(len(df))) #square root rule\n",
    "\n",
    "fig, ax = plt.subplots(3, 2, figsize=(15, 20))\n",
    "for i, col in enumerate(numerical_cols):\n",
    "    row = i // 2 \n",
    "    col_idx = i % 2\n",
    "    ax[row, col_idx].hist(df[col], bins=bins_m, density=True, color='skyblue')\n",
    "    kde = gaussian_kde(df[col], bw_method='silverman')\n",
    "    bw = kde.factor\n",
    "    x = np.linspace(df[col].min(), df[col].max(), 100)\n",
    "    ax[row, col_idx].plot(x, kde(x), color='red', label='KDE')\n",
    "    ax[row, col_idx].legend(['KDE', 'Histogram'])\n",
    "    ax[row, col_idx].set_title(col)\n",
    "    ax[row, col_idx].set_xlabel(col)\n",
    "    ax[row, col_idx].set_ylabel('Density')\n",
    "plt.suptitle('Distribution of Numerical Variables', fontsize=20)\n",
    "plt.tight_layout()\n",
    "plt.show()\n"
   ]
  },
  {
   "cell_type": "markdown",
   "metadata": {},
   "source": [
    "# Categorical Plot\n",
    "We make some observations:\n",
    "- Majority of students do direct admission to schools. \n",
    "- There are relatively even distribution of students for categories CCA, bag colour, gender. \n",
    "- Slightly more students are auditory learners.\n",
    "- Students have preferences for private and public transport than walking. \n",
    "- Slightly more students have access to tuition. \n",
    "- Most schools are mixed schools (91.4%).\n",
    "- Majority of students have 1-2 siblings. \n"
   ]
  },
  {
   "cell_type": "code",
   "execution_count": null,
   "metadata": {},
   "outputs": [],
   "source": [
    "fig, axs = plt.subplots(6, 2, figsize=(15, 30))\n",
    "for idx, cat_var in enumerate(categorical_columns):\n",
    "    row = idx // 2\n",
    "    col = idx % 2\n",
    "    sns.countplot(data=df, x=cat_var, ax=axs[row][col])\n",
    "    # label percentage\n",
    "    for p in axs[row][col].patches:\n",
    "        percentage = '{:.1f}%'.format(100 * p.get_height()/len(df))\n",
    "        x = p.get_x() + p.get_width() / 2 - 0.05\n",
    "        y = p.get_y() + p.get_height() + 5\n",
    "        axs[row][col].annotate(percentage, (x, y))"
   ]
  },
  {
   "cell_type": "markdown",
   "metadata": {},
   "source": [
    "## Categorical Variables Distribution by Attendance Type ('att_type')\n",
    "\n",
    "A notable observation here is that 'att_type' is correlated to 'hours_of_sleep'. \\\n",
    "Students who do not have at least 7 hours of sleep is likely to have lower attendance. "
   ]
  },
  {
   "cell_type": "code",
   "execution_count": null,
   "metadata": {},
   "outputs": [],
   "source": [
    "stacked_columns = categorical_columns.copy()\n",
    "stacked_columns.remove('att_type')\n",
    "stacked_columns.append('hours_of_sleep')\n",
    "\n",
    "\n",
    "fig, axs = plt.subplots(6, 2, figsize=(20, 40))\n",
    "\n",
    "for idx, cat_var in enumerate(stacked_columns):\n",
    "    row = idx // 2\n",
    "    col = idx % 2\n",
    "    ax = axs[row][col]\n",
    "    \n",
    "    sns.countplot(data=df, x=cat_var, hue='att_type', ax=ax, palette=['green', 'blue', 'red'])\n",
    "\n",
    "    ax.set_title(cat_var)\n",
    "    ax.set_ylabel('Count')\n",
    "    ax.set_xlabel('')\n",
    "\n",
    "    for p in ax.patches:\n",
    "        ax.annotate(str(p.get_height()), (p.get_x() + p.get_width() / 2., p.get_height()), ha='center', va='center', xytext=(0, 10), textcoords='offset points', fontsize=10)\n",
    "    \n",
    "    if cat_var != 'direct_admission':\n",
    "        ax.legend().set_visible(False)\n",
    "    else:\n",
    "        ax.legend(title='Attendance Type', loc='upper right')\n",
    "plt.suptitle('Distribution of Categorical Variables by Attendance Type', fontsize=15)\n",
    "plt.show()"
   ]
  },
  {
   "cell_type": "code",
   "execution_count": null,
   "metadata": {},
   "outputs": [],
   "source": [
    "sleep_att_df = df[['hours_of_sleep', 'att_type']]\n",
    "\n",
    "crosstab_df = pd.crosstab(sleep_att_df['hours_of_sleep'], sleep_att_df['att_type'], normalize=False)\n",
    "\n",
    "def calculate_percentage(row):\n",
    "    return row / row.sum()\n",
    "\n",
    "print(crosstab_df)\n",
    "print(\"\",sep=\"\\n\")\n",
    "\n",
    "percentage_df = crosstab_df.apply(calculate_percentage, axis=1)\n",
    "\n",
    "percentage_df = percentage_df.round(2)\n",
    "\n",
    "print(percentage_df)"
   ]
  },
  {
   "cell_type": "markdown",
   "metadata": {},
   "source": [
    "# 3. Statistical Tests\n",
    "\n",
    "After dummy code encoding, below are reference categories:\n",
    "- direct_admission_No\n",
    "- CCA_Arts\n",
    "- learning_style_Auditory\n",
    "- gender_Female\n",
    "- mode_of_transport_private_transport\n",
    "- bag_color_black\n",
    "- age_15.0\n",
    "- tuition_No\n",
    "- att_type_A\n",
    "- number_of_siblings_0\n",
    "- school_type_boy_sch\n",
    "\n",
    "\n",
    "\n",
    "Interpretation at 5% significance levels:\n",
    "- CCA, mode_of_transport, bag_color are significant as some categories show significant differences from reference categories.\n",
    "- However not all of these categories within these variables are significant (e.g. Clubs for CCA, walk for mode_of_transport, blue and green for bag_color)\n",
    "- other variables shows strong significance.\n"
   ]
  },
  {
   "cell_type": "code",
   "execution_count": null,
   "metadata": {},
   "outputs": [],
   "source": [
    "from sklearn.preprocessing import OneHotEncoder\n",
    "import statsmodels.api as sm\n",
    "\n",
    "df_stat = df.copy()\n",
    "\n",
    "encoder = OneHotEncoder(drop='first')\n",
    "encoded_features = encoder.fit_transform(df_stat[categorical_columns]).toarray()\n",
    "encoded_data = pd.DataFrame(encoded_features, columns=encoder.get_feature_names_out(categorical_columns))\n",
    "\n",
    "# Reset the index of both dataframes before concatenating\n",
    "df_stat.reset_index(drop=True, inplace=True)\n",
    "encoded_data.reset_index(drop=True, inplace=True)\n",
    "\n",
    "df_stat = pd.concat([df_stat, encoded_data], axis=1)\n",
    "df_stat.drop(categorical_columns, axis=1, inplace=True)\n",
    "\n",
    "print(\"After one-hot encoding:\", df_stat.isnull().sum().sum())\n",
    "\n",
    "X = df_stat.drop('final_test', axis=1)\n",
    "y = df_stat['final_test']\n",
    "\n"
   ]
  },
  {
   "cell_type": "code",
   "execution_count": null,
   "metadata": {},
   "outputs": [],
   "source": [
    "model = sm.OLS(y,X,missing='drop').fit()\n",
    "p_values = model.pvalues\n",
    "\n",
    "# Significant \n",
    "print(p_values[p_values < 0.05].sort_values(ascending=True))"
   ]
  },
  {
   "cell_type": "code",
   "execution_count": null,
   "metadata": {},
   "outputs": [],
   "source": [
    "# Not Significant\n",
    "print(p_values[p_values > 0.05])"
   ]
  },
  {
   "cell_type": "markdown",
   "metadata": {},
   "source": [
    "## Residual Plot\n",
    "\n",
    "Residual vs Fitted Plot Graph shows non-linearity as residuals are not randomly dispersed.\\\n",
    "Relationship between predictors and the response variables might not be linear.\n",
    "\n",
    "However, residuals are normally distributed based on histogram plot and Q-Q plot. \n",
    "\n"
   ]
  },
  {
   "cell_type": "code",
   "execution_count": null,
   "metadata": {},
   "outputs": [],
   "source": [
    "import matplotlib.pyplot as plt\n",
    "\n",
    "# Calculate residuals\n",
    "residuals = model.resid\n",
    "\n",
    "# predicted values\n",
    "fitted = model.fittedvalues\n",
    "\n",
    "# residual plot\n",
    "plt.scatter(fitted, residuals, alpha=0.5)\n",
    "plt.xlabel('Fitted values')\n",
    "plt.ylabel('Residuals')\n",
    "plt.title('Residual vs. Fitted Plot')\n",
    "plt.axhline(y=0, color='r', linestyle='-') \n",
    "plt.show()\n",
    "\n",
    "\n",
    "# histogram\n",
    "plt.hist(residuals, bins=50, edgecolor='k', alpha=0.5)\n",
    "plt.title('Histogram of Residuals')\n",
    "plt.xlabel('Residuals')\n",
    "plt.ylabel('Frequency')\n",
    "plt.show()\n",
    "\n",
    "# Q-Q plot of residuals\n",
    "sm.qqplot(residuals, line='45', fit=True)\n",
    "plt.title('Q-Q Plot of Residuals')\n",
    "plt.show()\n"
   ]
  },
  {
   "cell_type": "markdown",
   "metadata": {},
   "source": [
    "## Correlation Matrix Heatmap\n",
    "\n",
    "We observe the following: \n",
    "\n",
    "- 'attendance_rate' and 'hours_of_sleep' show a very strong correlation of 0.84\n",
    "- 'attendance_rate', 'hours_of_sleep' and having no CCA show a strong positive correlation to 'final_test'.\n",
    "-  The larger the 'class_size', negatively correlates to 'final_test' scores. \n",
    "-  The higher the number of siblings, show a negative correlation to 'final_test'"
   ]
  },
  {
   "cell_type": "code",
   "execution_count": null,
   "metadata": {},
   "outputs": [],
   "source": [
    "# corrplot\n",
    "plt.figure(figsize=(30, 30))\n",
    "correlation_matrix = df_stat.corr()\n",
    "mask = np.triu(np.ones_like(correlation_matrix, dtype=bool))\n",
    "sns.heatmap(correlation_matrix, annot=True, cmap='coolwarm', mask=mask)\n",
    "plt.title('Correlation Matrix Heatmap', fontsize=18)\n",
    "plt.xticks(fontsize=12)\n",
    "plt.yticks(fontsize=12)\n",
    "plt.show()\n"
   ]
  },
  {
   "cell_type": "markdown",
   "metadata": {},
   "source": [
    "# 4. Ending Discussions \n",
    "\n",
    "Based on the above findings, while histogram of residuals and Q-Q plot shows that residuals are approximately normal, Residual vs Fitted plot shows that there is some non-linearities that are not captured if we use a linear model. We expect that non-linear models may be better in predicting 'final_test' scores. \n",
    "\n",
    "\n",
    "The variables effects on 'final_test' makes sense. \\\n",
    "We expect that smaller 'class_size' may lead to better test outcomes due to more focus on individual students. \\\n",
    "Students who do not have CCA are likely to have better test outcomes as they have more time to work on their studies. \\\n",
    "'attendance_rate' greatly impacts 'final_test' scores. We interpret that there may be some scores reserved for attendance. \\\n",
    "Students with access to 'tuition' are correlated to having better 'final_test' scores. \n",
    "\n",
    "'final_test' are less correlated to 'gender', 'mode_of_transport', 'school_type', 'bag_color', and 'age'.\n",
    "\n",
    "Unexpectedly, 'hours_per_week' of study have a slight negative correlation to 'final_test.' Perhaps maybe these are struggling students. \\\n",
    "Also, it also seems like students with visual 'learning_style' are correlated to have better 'final_test.'\n",
    "\n"
   ]
  }
 ],
 "metadata": {
  "kernelspec": {
   "display_name": "score_env",
   "language": "python",
   "name": "python3"
  },
  "language_info": {
   "codemirror_mode": {
    "name": "ipython",
    "version": 3
   },
   "file_extension": ".py",
   "mimetype": "text/x-python",
   "name": "python",
   "nbconvert_exporter": "python",
   "pygments_lexer": "ipython3",
   "version": "3.8.17"
  },
  "orig_nbformat": 4,
  "vscode": {
   "interpreter": {
    "hash": "af12cea072731399a49a65bb8b1450bc91cca433f8884d089eefaf4b4d3e87a6"
   }
  }
 },
 "nbformat": 4,
 "nbformat_minor": 2
}
